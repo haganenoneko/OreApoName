{
 "cells": [
  {
   "cell_type": "code",
   "execution_count": 42,
   "metadata": {},
   "outputs": [],
   "source": [
    "import pandas as pd \n",
    "import numpy as np \n",
    "import json \n",
    "from pathlib import Path \n",
    "import matplotlib.pyplot as plt \n",
    "from datetime import datetime\n",
    "from typing import List, Dict, Any, Union \n",
    "\n",
    "datapath = Path.cwd().parent / 'data/chat.json'"
   ]
  },
  {
   "cell_type": "code",
   "execution_count": 5,
   "metadata": {},
   "outputs": [],
   "source": [
    "data = json.load(\n",
    "    open(datapath, 'r', encoding='utf-8')\n",
    ")"
   ]
  },
  {
   "cell_type": "code",
   "execution_count": 17,
   "metadata": {},
   "outputs": [
    {
     "name": "stdout",
     "output_type": "stream",
     "text": [
      "<class 'pandas.core.frame.DataFrame'>\n",
      "RangeIndex: 1832 entries, 0 to 1831\n",
      "Data columns (total 4 columns):\n",
      " #   Column           Non-Null Count  Dtype  \n",
      "---  ------           --------------  -----  \n",
      " 0   author           1832 non-null   object \n",
      " 1   message          1832 non-null   object \n",
      " 2   time_in_seconds  1832 non-null   float64\n",
      " 3   timestamp        1832 non-null   int64  \n",
      "dtypes: float64(1), int64(1), object(2)\n",
      "memory usage: 57.4+ KB\n"
     ]
    }
   ],
   "source": [
    "df = pd.DataFrame.from_records(\n",
    "    data, columns=[\n",
    "        'author', 'message', 'time_in_seconds', 'timestamp'\n",
    "    ]\n",
    ")\n",
    "df.info()"
   ]
  },
  {
   "cell_type": "code",
   "execution_count": 41,
   "metadata": {},
   "outputs": [],
   "source": [
    "to_dt = np.vectorize(lambda x: datetime.utcfromtimestamp(x/1e6))\n",
    "df.loc[:, 'timestamp'] = to_dt(df.timestamp.values)"
   ]
  },
  {
   "cell_type": "code",
   "execution_count": 43,
   "metadata": {},
   "outputs": [
    {
     "name": "stdout",
     "output_type": "stream",
     "text": [
      "<class 'pandas.core.frame.DataFrame'>\n",
      "RangeIndex: 1832 entries, 0 to 1831\n",
      "Data columns (total 4 columns):\n",
      " #   Column           Non-Null Count  Dtype         \n",
      "---  ------           --------------  -----         \n",
      " 0   author           1832 non-null   object        \n",
      " 1   message          1832 non-null   object        \n",
      " 2   time_in_seconds  1832 non-null   float64       \n",
      " 3   timestamp        1832 non-null   datetime64[ns]\n",
      "dtypes: datetime64[ns](1), float64(1), object(2)\n",
      "memory usage: 57.4+ KB\n"
     ]
    }
   ],
   "source": [
    "df.info()"
   ]
  },
  {
   "cell_type": "code",
   "execution_count": 50,
   "metadata": {},
   "outputs": [
    {
     "data": {
      "text/plain": [
       "(1452,)"
      ]
     },
     "execution_count": 50,
     "metadata": {},
     "output_type": "execute_result"
    }
   ],
   "source": [
    "uq_msg = df.message.unique().astype(np.str_)\n",
    "uq_msg.shape"
   ]
  },
  {
   "cell_type": "code",
   "execution_count": 97,
   "metadata": {},
   "outputs": [],
   "source": [
    "import re \n",
    "oreapo_pattern = re.compile(\n",
    "    r\"(オレオ|アポロ|おれお|あぽろ|オレアポ|おれあぽ|アポレオ)+\"\n",
    ")"
   ]
  },
  {
   "cell_type": "code",
   "execution_count": 96,
   "metadata": {},
   "outputs": [
    {
     "name": "stderr",
     "output_type": "stream",
     "text": [
      "C:\\Users\\delbe\\AppData\\Local\\Temp\\ipykernel_20656\\1766214069.py:2: UserWarning: This pattern has match groups. To actually get the groups, use str.extract.\n",
      "  df.message.str.contains(oreapo_pattern), :\n"
     ]
    }
   ],
   "source": [
    "oreapo = df.loc[\n",
    "    df.message.str.contains(oreapo_pattern), :\n",
    "]"
   ]
  },
  {
   "cell_type": "code",
   "execution_count": 94,
   "metadata": {},
   "outputs": [
    {
     "name": "stderr",
     "output_type": "stream",
     "text": [
      "C:\\Users\\delbe\\AppData\\Local\\Temp\\ipykernel_20656\\3887181606.py:3: UserWarning: This pattern has match groups. To actually get the groups, use str.extract.\n",
      "  df.message.str.contains(ihf_pattern), :\n"
     ]
    },
    {
     "data": {
      "text/plain": [
       "174          1時間フレンズww\n",
       "182       1時間で終わるつもりww\n",
       "201      1時間フレンズｗｗｗｗｗｗ\n",
       "218      1時間だけの友達みたいなw\n",
       "223     1時間で記憶消えるやんけww\n",
       "             ...      \n",
       "1041           1時間たった？\n",
       "1042           1時間ごとに？\n",
       "1049         1時間たったのか？\n",
       "1052         1時間たったからｗ\n",
       "1280             1時間予想\n",
       "Name: message, Length: 62, dtype: object"
      ]
     },
     "execution_count": 94,
     "metadata": {},
     "output_type": "execute_result"
    }
   ],
   "source": [
    "ihf_pattern = re.compile(r\"(1時間|1H|いちフレ)+(フレンズ|Friends])*\", re.IGNORECASE)\n",
    "ihf = df.loc[\n",
    "    df.message.str.contains(ihf_pattern), :\n",
    "]\n",
    "ihf.message"
   ]
  },
  {
   "cell_type": "markdown",
   "metadata": {},
   "source": [
    "\n",
    "- ロリとロリコン\n",
    "- ひーちゃん、かーくん\n",
    "- プロポーズ\n",
    "- 頻尿フレンド\n",
    "- ハーフandハーフ\n",
    "- 一時間カップル\n",
    "- 1エッチフレンド\n",
    "- かみひなの1HF\n",
    "- レンタルフレンド\n",
    "- レンタルひなの\n",
    "- カラダフレンズ\n",
    "- アポロカラーズ\n",
    "- ツートンフレンド\n",
    "- オレオとアポロ\n",
    "- H&H\n",
    "- ツートンズ\n",
    "- オセロカラー\n",
    "- h&f\n",
    "- 半分友達\n",
    "- オタク×オタク\n",
    "- パスとアポロ\n",
    "- ハーフアンドハーフ\n",
    "- 1時間フレンド〜ロリとロリコンの物語〜\n",
    "- 30分フレンズ\n",
    "- 週１フレンズ\n",
    "- 1half\n",
    "- 色違いヘアーズ\n",
    "- ゲーマーズ＆キーマーズ\n",
    "- エンゼルフレンチ\n",
    "- 1WF\n",
    "- ワンフレ\n",
    "- ヘアーハーフフレンズ\n",
    "- two hair friends\n",
    "- Ｍasterキートン\n",
    "- アポレオン\n",
    "- two head one black"
   ]
  },
  {
   "cell_type": "code",
   "execution_count": 99,
   "metadata": {},
   "outputs": [],
   "source": [
    "collab_names = [\n",
    "    \"ロリとロリコン\",   \n",
    "    \"ひーちゃん、かーくん\",\n",
    "    \"プロポーズ\",\n",
    "    \"頻尿フレンド\",\n",
    "    \"ハーフandハーフ\",\n",
    "    \"一時間カップル\",\n",
    "    \"1エッチフレンド\",\n",
    "    \"かみひなの1HF\",\n",
    "    \"レンタルフレンド\",\n",
    "    \"レンタルひなの\",\n",
    "    \"カラダフレンズ\",\n",
    "    \"アポロカラーズ\",\n",
    "    \"ツートンフレンド\",\n",
    "    \"オレオとアポロ\",\n",
    "    \"H&H\",\n",
    "    \"ツートンズ\",\n",
    "    \"オセロカラー\",\n",
    "    \"h&f\",\n",
    "    \"半分友達\",\n",
    "    \"オタク×オタク\",\n",
    "    \"パスとアポロ\",\n",
    "    \"ハーフアンドハーフ\",\n",
    "    \"1時間フレンド〜ロリとロリコンの物語〜\",\n",
    "    \"30分フレンズ\",\n",
    "    \"週１フレンズ\",\n",
    "    \"1half\",\n",
    "    \"色違いヘアーズ\",\n",
    "    \"ゲーマーズ＆キーマーズ\",\n",
    "    \"エンゼルフレンチ\",\n",
    "    \"1WF\",\n",
    "    \"ワンフレ\",\n",
    "    \"ヘアーハーフフレンズ\",\n",
    "    \"two hair friends\",\n",
    "    \"Ｍasterキートン\",\n",
    "    \"アポレオン\",\n",
    "    \"two head one black\"\n",
    "]\n"
   ]
  },
  {
   "cell_type": "code",
   "execution_count": null,
   "metadata": {},
   "outputs": [],
   "source": []
  }
 ],
 "metadata": {
  "interpreter": {
   "hash": "0802380955fb45c42ee6af905daa4975880d5bbc2e5380e844e48fb5cddadf4a"
  },
  "kernelspec": {
   "display_name": "Python 3.10.1 64-bit",
   "language": "python",
   "name": "python3"
  },
  "language_info": {
   "codemirror_mode": {
    "name": "ipython",
    "version": 3
   },
   "file_extension": ".py",
   "mimetype": "text/x-python",
   "name": "python",
   "nbconvert_exporter": "python",
   "pygments_lexer": "ipython3",
   "version": "3.10.1"
  },
  "orig_nbformat": 4
 },
 "nbformat": 4,
 "nbformat_minor": 2
}
